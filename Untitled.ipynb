{
 "cells": [
  {
   "cell_type": "code",
   "execution_count": 3,
   "id": "be623824-c433-4a16-a284-167416a80920",
   "metadata": {},
   "outputs": [],
   "source": [
    "lst_eg = []"
   ]
  },
  {
   "cell_type": "code",
   "execution_count": 5,
   "id": "e75bb868-64a5-45ff-a4d3-19c4990d6bb9",
   "metadata": {},
   "outputs": [
    {
     "data": {
      "text/plain": [
       "list"
      ]
     },
     "execution_count": 5,
     "metadata": {},
     "output_type": "execute_result"
    }
   ],
   "source": [
    "type(lst_eg)"
   ]
  },
  {
   "cell_type": "code",
   "execution_count": 7,
   "id": "bc112fc2-8214-4b02-90c5-ad3492efa899",
   "metadata": {},
   "outputs": [],
   "source": [
    "lst=['maths', 'chem', 100 , 200, 300]"
   ]
  },
  {
   "cell_type": "code",
   "execution_count": 9,
   "id": "37f1bd27-948e-456c-95d7-18d1ec4290a9",
   "metadata": {},
   "outputs": [
    {
     "data": {
      "text/plain": [
       "list"
      ]
     },
     "execution_count": 9,
     "metadata": {},
     "output_type": "execute_result"
    }
   ],
   "source": [
    "type(lst)\n"
   ]
  },
  {
   "cell_type": "code",
   "execution_count": 11,
   "id": "08547682-0018-443f-9b9f-e1f9deb93668",
   "metadata": {},
   "outputs": [
    {
     "data": {
      "text/plain": [
       "5"
      ]
     },
     "execution_count": 11,
     "metadata": {},
     "output_type": "execute_result"
    }
   ],
   "source": [
    "len(lst)"
   ]
  },
  {
   "cell_type": "code",
   "execution_count": 13,
   "id": "3b8df1dc-ee14-4ecc-ad4e-d1c137683b1e",
   "metadata": {},
   "outputs": [],
   "source": [
    "lst.append(\"Aaryan\")"
   ]
  },
  {
   "cell_type": "code",
   "execution_count": 15,
   "id": "7059cb1a-f14c-4a5c-951e-f2e3fdc6da24",
   "metadata": {},
   "outputs": [
    {
     "data": {
      "text/plain": [
       "['maths', 'chem', 100, 200, 300, 'Aaryan']"
      ]
     },
     "execution_count": 15,
     "metadata": {},
     "output_type": "execute_result"
    }
   ],
   "source": [
    "lst"
   ]
  },
  {
   "cell_type": "code",
   "execution_count": 33,
   "id": "b3a73ebb-6749-4ecf-a23f-5b3a16aefefc",
   "metadata": {},
   "outputs": [],
   "source": [
    "lst.insert(2,\"Butala\")"
   ]
  },
  {
   "cell_type": "code",
   "execution_count": 35,
   "id": "c78c46a8-2dce-451f-95de-2d155882f3a1",
   "metadata": {},
   "outputs": [
    {
     "data": {
      "text/plain": [
       "['maths',\n",
       " 'Butala',\n",
       " 'Butala',\n",
       " 'chem',\n",
       " 100,\n",
       " 200,\n",
       " 300,\n",
       " 'Aaryan',\n",
       " ['John', 'Bala']]"
      ]
     },
     "execution_count": 35,
     "metadata": {},
     "output_type": "execute_result"
    }
   ],
   "source": [
    "lst"
   ]
  },
  {
   "cell_type": "code",
   "execution_count": 25,
   "id": "1dd7fab8-2c45-4d98-9827-ff5f4e541e1a",
   "metadata": {},
   "outputs": [
    {
     "data": {
      "text/plain": [
       "['Butala', 'chem', 100, 200, 300]"
      ]
     },
     "execution_count": 25,
     "metadata": {},
     "output_type": "execute_result"
    }
   ],
   "source": [
    "lst[1:6]"
   ]
  },
  {
   "cell_type": "code",
   "execution_count": 27,
   "id": "2fe711c7-1f08-472f-a360-1257ffaf4bdf",
   "metadata": {},
   "outputs": [
    {
     "data": {
      "text/plain": [
       "['maths', 'Butala', 'chem', 100, 200, 300, 'Aaryan']"
      ]
     },
     "execution_count": 27,
     "metadata": {},
     "output_type": "execute_result"
    }
   ],
   "source": [
    "lst"
   ]
  },
  {
   "cell_type": "code",
   "execution_count": 29,
   "id": "24232993-7881-4852-99f9-b926440414fb",
   "metadata": {},
   "outputs": [],
   "source": [
    "lst.append([\"John\", \"Bala\"])"
   ]
  },
  {
   "cell_type": "code",
   "execution_count": 31,
   "id": "8393ccbb-f61e-4cae-aafe-dcf1fb739304",
   "metadata": {},
   "outputs": [
    {
     "data": {
      "text/plain": [
       "['maths', 'Butala', 'chem', 100, 200, 300, 'Aaryan', ['John', 'Bala']]"
      ]
     },
     "execution_count": 31,
     "metadata": {},
     "output_type": "execute_result"
    }
   ],
   "source": [
    "lst"
   ]
  },
  {
   "cell_type": "code",
   "execution_count": 37,
   "id": "4e1ed888-310e-4186-8d95-8b3599b4e2d7",
   "metadata": {},
   "outputs": [],
   "source": [
    "lst_new = [1,2,3,4,5,6]"
   ]
  },
  {
   "cell_type": "code",
   "execution_count": 41,
   "id": "dbe3c6dd-4a4e-4a70-a722-b58182b1fc26",
   "metadata": {},
   "outputs": [],
   "source": [
    "lst_new.extend([8,9])"
   ]
  },
  {
   "cell_type": "code",
   "execution_count": 43,
   "id": "8ef54a92-a5ce-48e8-9982-70b13e2d6ce7",
   "metadata": {},
   "outputs": [
    {
     "data": {
      "text/plain": [
       "[1, 2, 3, 4, 5, 6, 8, 9]"
      ]
     },
     "execution_count": 43,
     "metadata": {},
     "output_type": "execute_result"
    }
   ],
   "source": [
    "lst_new"
   ]
  },
  {
   "cell_type": "code",
   "execution_count": 45,
   "id": "fdb500d7-af87-48fd-888c-60afed84525a",
   "metadata": {},
   "outputs": [
    {
     "data": {
      "text/plain": [
       "38"
      ]
     },
     "execution_count": 45,
     "metadata": {},
     "output_type": "execute_result"
    }
   ],
   "source": [
    "sum(lst_new)"
   ]
  },
  {
   "cell_type": "code",
   "execution_count": 49,
   "id": "daf109d7-9f6b-4245-bdcf-b2f81a3211d9",
   "metadata": {},
   "outputs": [
    {
     "data": {
      "text/plain": [
       "9"
      ]
     },
     "execution_count": 49,
     "metadata": {},
     "output_type": "execute_result"
    }
   ],
   "source": [
    "lst.pop()"
   ]
  },
  {
   "cell_type": "code",
   "execution_count": 51,
   "id": "68cf0f50-d3e8-4572-84c2-7a1e73508c59",
   "metadata": {},
   "outputs": [],
   "source": [
    "lst = [1,1,2,3,4,4,4,5,5,5,5,6,7]"
   ]
  },
  {
   "cell_type": "code",
   "execution_count": 53,
   "id": "bdab9925-f17f-48c2-b66a-78487635cb77",
   "metadata": {},
   "outputs": [
    {
     "data": {
      "text/plain": [
       "2"
      ]
     },
     "execution_count": 53,
     "metadata": {},
     "output_type": "execute_result"
    }
   ],
   "source": [
    "lst.count(1)"
   ]
  },
  {
   "cell_type": "code",
   "execution_count": 55,
   "id": "8c268ffd-8f59-42d6-a5d2-c25c1e4ff402",
   "metadata": {},
   "outputs": [
    {
     "data": {
      "text/plain": [
       "4"
      ]
     },
     "execution_count": 55,
     "metadata": {},
     "output_type": "execute_result"
    }
   ],
   "source": [
    "lst.count(5)"
   ]
  },
  {
   "cell_type": "code",
   "execution_count": 57,
   "id": "3dde1361-6f31-4bda-8ecb-a213d666970c",
   "metadata": {},
   "outputs": [
    {
     "data": {
      "text/plain": [
       "0"
      ]
     },
     "execution_count": 57,
     "metadata": {},
     "output_type": "execute_result"
    }
   ],
   "source": [
    "lst.index(1)"
   ]
  },
  {
   "cell_type": "code",
   "execution_count": 59,
   "id": "f2888e9b-41b7-4986-81c7-5b4b672abb5e",
   "metadata": {},
   "outputs": [
    {
     "data": {
      "text/plain": [
       "7"
      ]
     },
     "execution_count": 59,
     "metadata": {},
     "output_type": "execute_result"
    }
   ],
   "source": [
    "max(lst)"
   ]
  },
  {
   "cell_type": "code",
   "execution_count": 61,
   "id": "dcc0a302-1ced-4ff0-9afb-b7893c372d99",
   "metadata": {},
   "outputs": [
    {
     "data": {
      "text/plain": [
       "1"
      ]
     },
     "execution_count": 61,
     "metadata": {},
     "output_type": "execute_result"
    }
   ],
   "source": [
    "min(lst)"
   ]
  },
  {
   "cell_type": "code",
   "execution_count": 63,
   "id": "8142a3dd-c313-492f-a8b6-3cd33198c4eb",
   "metadata": {},
   "outputs": [
    {
     "data": {
      "text/plain": [
       "52"
      ]
     },
     "execution_count": 63,
     "metadata": {},
     "output_type": "execute_result"
    }
   ],
   "source": [
    "sum(lst)"
   ]
  },
  {
   "cell_type": "code",
   "execution_count": 65,
   "id": "c6b2f6b1-7e2d-437e-8b05-5eb7e71c97f6",
   "metadata": {},
   "outputs": [
    {
     "data": {
      "text/plain": [
       "[1, 1, 2, 3, 4, 4, 4, 5, 5, 5, 5, 6, 7, 1, 1, 2, 3, 4, 4, 4, 5, 5, 5, 5, 6, 7]"
      ]
     },
     "execution_count": 65,
     "metadata": {},
     "output_type": "execute_result"
    }
   ],
   "source": [
    "lst*2"
   ]
  },
  {
   "cell_type": "raw",
   "id": "b61f3f69-d072-4de6-b6b6-bd2715d806c3",
   "metadata": {},
   "source": [
    "SETS\n"
   ]
  },
  {
   "cell_type": "code",
   "execution_count": 69,
   "id": "a1b7025d-cf88-45d8-a557-b7c47f1d5b09",
   "metadata": {},
   "outputs": [],
   "source": [
    "set_var = set()"
   ]
  },
  {
   "cell_type": "code",
   "execution_count": 71,
   "id": "38ec603a-21c5-44bd-8e86-e493256699fa",
   "metadata": {},
   "outputs": [
    {
     "name": "stdout",
     "output_type": "stream",
     "text": [
      "set()\n"
     ]
    }
   ],
   "source": [
    "print(set_var)"
   ]
  },
  {
   "cell_type": "code",
   "execution_count": 73,
   "id": "a8b57d0e-6375-4f75-8861-410169a78e6b",
   "metadata": {},
   "outputs": [
    {
     "name": "stdout",
     "output_type": "stream",
     "text": [
      "<class 'set'>\n"
     ]
    }
   ],
   "source": [
    "print(type(set_var))"
   ]
  },
  {
   "cell_type": "code",
   "execution_count": 77,
   "id": "cc4a7498-4b35-4643-927f-8f3f878453e2",
   "metadata": {},
   "outputs": [],
   "source": [
    "set_var = {1,2,3,4,3}"
   ]
  },
  {
   "cell_type": "code",
   "execution_count": 79,
   "id": "84a9a494-c5ea-44f6-a2c3-398007722ac1",
   "metadata": {},
   "outputs": [
    {
     "data": {
      "text/plain": [
       "{1, 2, 3, 4}"
      ]
     },
     "execution_count": 79,
     "metadata": {},
     "output_type": "execute_result"
    }
   ],
   "source": [
    "set_var"
   ]
  },
  {
   "cell_type": "code",
   "execution_count": 87,
   "id": "341cebcd-aeb6-49f8-866b-6a5d86fdf695",
   "metadata": {},
   "outputs": [
    {
     "name": "stdout",
     "output_type": "stream",
     "text": [
      "{'Hitman', 'Avengers', 'Iron Man'}\n"
     ]
    },
    {
     "data": {
      "text/plain": [
       "set"
      ]
     },
     "execution_count": 87,
     "metadata": {},
     "output_type": "execute_result"
    }
   ],
   "source": [
    "set_var = {\"Avengers\", \"Iron Man\", \"Hitman\"}\n",
    "print(set_var)\n",
    "type(set_var)"
   ]
  },
  {
   "cell_type": "code",
   "execution_count": 89,
   "id": "aa3d9ea7-2bd8-4afa-813f-23beafe28d02",
   "metadata": {},
   "outputs": [],
   "source": [
    "#Inbuilt functions\n",
    "\n",
    "set_var.add(\"hulk\")"
   ]
  },
  {
   "cell_type": "code",
   "execution_count": 91,
   "id": "81c07b9e-2c2e-4573-be1e-418b8ca8266d",
   "metadata": {},
   "outputs": [
    {
     "data": {
      "text/plain": [
       "{'Avengers', 'Hitman', 'Iron Man', 'hulk'}"
      ]
     },
     "execution_count": 91,
     "metadata": {},
     "output_type": "execute_result"
    }
   ],
   "source": [
    "set_var"
   ]
  },
  {
   "cell_type": "code",
   "execution_count": 93,
   "id": "2850d8ba-4250-4d83-95e0-c9e3703f1c10",
   "metadata": {},
   "outputs": [],
   "source": [
    "set1 = {\"Avengers\", \"Iron Man\", \"Hitman\"}\n",
    "set2 = {\"Avengers\", \"Iron Man\", \"Hitman\", \"Hulk\"}"
   ]
  },
  {
   "cell_type": "code",
   "execution_count": 107,
   "id": "2704b19e-edf5-4c22-866d-e172aa28fd48",
   "metadata": {},
   "outputs": [],
   "source": [
    "set2.intersection_update(set1)"
   ]
  },
  {
   "cell_type": "code",
   "execution_count": 109,
   "id": "56e7fae7-bec5-4089-bf7d-8e20b960fc56",
   "metadata": {},
   "outputs": [
    {
     "data": {
      "text/plain": [
       "set()"
      ]
     },
     "execution_count": 109,
     "metadata": {},
     "output_type": "execute_result"
    }
   ],
   "source": [
    "set2"
   ]
  },
  {
   "cell_type": "code",
   "execution_count": 95,
   "id": "2742dc47-b0d8-4f6e-a96b-1becc208d97a",
   "metadata": {},
   "outputs": [
    {
     "data": {
      "text/plain": [
       "{'Hulk'}"
      ]
     },
     "execution_count": 95,
     "metadata": {},
     "output_type": "execute_result"
    }
   ],
   "source": [
    "#difference\n",
    "set2.difference(set1)"
   ]
  },
  {
   "cell_type": "code",
   "execution_count": 97,
   "id": "39c62b72-70fd-4278-9447-7bb853466bb1",
   "metadata": {},
   "outputs": [],
   "source": [
    "set2.difference_update(set1)"
   ]
  },
  {
   "cell_type": "code",
   "execution_count": 99,
   "id": "8cf2151d-a332-433e-a859-fd798916a38e",
   "metadata": {},
   "outputs": [
    {
     "data": {
      "text/plain": [
       "{'Hulk'}"
      ]
     },
     "execution_count": 99,
     "metadata": {},
     "output_type": "execute_result"
    }
   ],
   "source": [
    "set2"
   ]
  },
  {
   "cell_type": "code",
   "execution_count": null,
   "id": "5de89889-211c-4738-9117-21059d452176",
   "metadata": {},
   "outputs": [],
   "source": [
    "#Dictionaries"
   ]
  },
  {
   "cell_type": "code",
   "execution_count": 111,
   "id": "dcffab4c-537d-4a0d-9140-da89d3d0f991",
   "metadata": {},
   "outputs": [],
   "source": [
    "my_dict = {\"car1\":\"Audi\", \"car2\":\"bmw\", \"car3\":\"mercedes\"}"
   ]
  },
  {
   "cell_type": "code",
   "execution_count": 113,
   "id": "c9179fb1-4b01-48f8-b98b-ae378f59181a",
   "metadata": {},
   "outputs": [
    {
     "data": {
      "text/plain": [
       "dict"
      ]
     },
     "execution_count": 113,
     "metadata": {},
     "output_type": "execute_result"
    }
   ],
   "source": [
    "type(my_dict)"
   ]
  },
  {
   "cell_type": "code",
   "execution_count": 115,
   "id": "5651b0b7-0fca-4807-b9c3-659fdbbd01ac",
   "metadata": {},
   "outputs": [
    {
     "data": {
      "text/plain": [
       "'Audi'"
      ]
     },
     "execution_count": 115,
     "metadata": {},
     "output_type": "execute_result"
    }
   ],
   "source": [
    "my_dict['car1']"
   ]
  },
  {
   "cell_type": "code",
   "execution_count": 117,
   "id": "20d596a5-4024-4a87-8f98-81021a0c8397",
   "metadata": {},
   "outputs": [
    {
     "name": "stdout",
     "output_type": "stream",
     "text": [
      "car1\n",
      "car2\n",
      "car3\n"
     ]
    }
   ],
   "source": [
    "for x in my_dict:\n",
    "    print(x)"
   ]
  },
  {
   "cell_type": "code",
   "execution_count": 121,
   "id": "92074c7d-bb1a-4719-af98-0fae5864d90c",
   "metadata": {},
   "outputs": [
    {
     "name": "stdout",
     "output_type": "stream",
     "text": [
      "Audi\n",
      "bmw\n",
      "mercedes\n"
     ]
    }
   ],
   "source": [
    "for x in my_dict.values():\n",
    "    print(x)"
   ]
  },
  {
   "cell_type": "code",
   "execution_count": 123,
   "id": "1aa7b4eb-b26a-4287-8647-18b959b42683",
   "metadata": {},
   "outputs": [
    {
     "name": "stdout",
     "output_type": "stream",
     "text": [
      "('car1', 'Audi')\n",
      "('car2', 'bmw')\n",
      "('car3', 'mercedes')\n"
     ]
    }
   ],
   "source": [
    "for x in my_dict.items():\n",
    "    print(x)"
   ]
  },
  {
   "cell_type": "code",
   "execution_count": 125,
   "id": "745e535c-a0d1-48b6-a286-51c074056ec5",
   "metadata": {},
   "outputs": [],
   "source": [
    "my_dict['car1'] = 'maruti'"
   ]
  },
  {
   "cell_type": "code",
   "execution_count": 127,
   "id": "852e506a-b895-4f91-8d37-0fabb0093447",
   "metadata": {},
   "outputs": [
    {
     "data": {
      "text/plain": [
       "{'car1': 'maruti', 'car2': 'bmw', 'car3': 'mercedes'}"
      ]
     },
     "execution_count": 127,
     "metadata": {},
     "output_type": "execute_result"
    }
   ],
   "source": [
    "my_dict"
   ]
  },
  {
   "cell_type": "code",
   "execution_count": null,
   "id": "6429c62d-d070-4fe7-832e-13ae2c158cb2",
   "metadata": {},
   "outputs": [],
   "source": []
  }
 ],
 "metadata": {
  "kernelspec": {
   "display_name": "Python 3 (ipykernel)",
   "language": "python",
   "name": "python3"
  },
  "language_info": {
   "codemirror_mode": {
    "name": "ipython",
    "version": 3
   },
   "file_extension": ".py",
   "mimetype": "text/x-python",
   "name": "python",
   "nbconvert_exporter": "python",
   "pygments_lexer": "ipython3",
   "version": "3.12.4"
  }
 },
 "nbformat": 4,
 "nbformat_minor": 5
}
